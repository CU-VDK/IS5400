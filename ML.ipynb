{
 "cells": [
  {
   "cell_type": "code",
   "execution_count": 1,
   "metadata": {
    "collapsed": true
   },
   "outputs": [],
   "source": [
    "import numpy as np\n",
    "import matplotlib.pyplot as plt\n",
    "from sklearn import linear_model, datasets, svm, tree\n",
    "from sklearn.metrics import roc_curve, auc, accuracy_score, f1_score, precision_score, recall_score, classification_report, confusion_matrix\n",
    "from sklearn.cross_validation import train_test_split\n",
    "from sklearn.ensemble import RandomForestClassifier, AdaBoostClassifier\n",
    "from sklearn.naive_bayes import GaussianNB\n",
    "\n",
    "%matplotlib inline"
   ]
  },
  {
   "cell_type": "code",
   "execution_count": 2,
   "metadata": {
    "collapsed": true
   },
   "outputs": [],
   "source": [
    "# http://archive.ics.uci.edu/ml/datasets/Breast+Cancer+Wisconsin+%28Diagnostic%29\n",
    "# http://archive.ics.uci.edu/ml/datasets/Mammographic+Mass\n",
    "# http://archive.ics.uci.edu/ml/datasets/Thoracic+Surgery+Data"
   ]
  },
  {
   "cell_type": "code",
   "execution_count": 3,
   "metadata": {
    "collapsed": false
   },
   "outputs": [],
   "source": [
    "X = dict()\n",
    "y = dict()\n",
    "\n",
    "# Load WDBC dataset\n",
    "data = np.loadtxt(\"wdbc.data\", delimiter=',')\n",
    "X[0] = data[:, 2:]\n",
    "y[0] = data[:,  1]\n",
    "\n",
    "# Load Mammogram Mass dataset\n",
    "data = np.loadtxt(\"mmass.data\", delimiter=',')\n",
    "X[1] = data[:, :5]\n",
    "y[1] = data[:,  5]\n",
    "\n",
    "# Load Thoraric Surgery dataset\n",
    "data = np.loadtxt(\"ts.data\", delimiter=',')\n",
    "X[2] = data[:, :27]\n",
    "y[2] = data[:,  27]"
   ]
  },
  {
   "cell_type": "code",
   "execution_count": 15,
   "metadata": {
    "collapsed": false
   },
   "outputs": [],
   "source": [
    "def ROC(X, y, clf, split, n):\n",
    "    X_train, X_test, y_train, y_test = train_test_split(X, y, test_size=split, random_state=n)\n",
    "    clf.fit(X_train, y_train)\n",
    "    y_predict = clf.predict_proba(X_test)[:, 1]\n",
    "    fpr, tpr, _ = roc_curve(y_test, y_predict)\n",
    "    return fpr, tpr\n",
    "\n",
    "def Acc(X, y, clf, split, n):\n",
    "    X_train, X_test, y_train, y_test = train_test_split(X, y, test_size=split, random_state=n)\n",
    "    clf.fit(X_train, y_train)\n",
    "    return clf.score(X_test, y_test)\n",
    "\n",
    "def Gmean(X, y, clf, split, n):\n",
    "    X_train, X_test, y_train, y_test = train_test_split(X, y, test_size=split, random_state=n)\n",
    "    clf.fit(X_train, y_train)\n",
    "    spec = recall_score(1 - y_test, 1 - clf.predict(X_test))\n",
    "    rec = recall_score(y_test, clf.predict(X_test))\n",
    "    return (spec, rec, np.sqrt(spec * rec))\n",
    "\n",
    "def GmeanOS(X, y, clf, split, sampleratio, n):\n",
    "    X_train, X_test, y_train, y_test = train_test_split(X, y, test_size=split, random_state=n)\n",
    "    \n",
    "    num0 = np.sum(y_train == 0)\n",
    "    num1 = np.sum(y_train == 1)\n",
    "\n",
    "    old1 = np.where(y_train == 1)[0]\n",
    "    new0 = np.where(y_train == 0)[0]\n",
    "    new1 = np.random.choice(old1, int(num0*sampleratio) - num1)\n",
    "\n",
    "    X_train2 = np.concatenate((X_train[new0, :], X_train[old1, :], X_train[new1, :]))\n",
    "    y_train2 = np.concatenate((y_train[new0   ], y_train[old1   ], y_train[new1   ]))\n",
    "\n",
    "    clf.fit(X_train2, y_train2)\n",
    "    spec = recall_score(1 - y_test, 1 - clf.predict(X_test))\n",
    "    rec = recall_score(y_test, clf.predict(X_test))\n",
    "    return (spec, rec, np.sqrt(spec * rec))\n",
    "\n",
    "def GmeanUS(X, y, clf, split, sampleratio, n):\n",
    "    X_train, X_test, y_train, y_test = train_test_split(X, y, test_size=split, random_state=n)\n",
    "    \n",
    "    num0 = np.sum(y_train == 0)\n",
    "    num1 = np.sum(y_train == 1)\n",
    "\n",
    "    new0 = np.random.choice(np.where(y_train == 0)[0], int(num1/sampleratio))\n",
    "    new1 = np.where(y_train == 1)[0]\n",
    "\n",
    "    X_train2 = np.concatenate((X_train[new0, :], X_train[new1, :]))\n",
    "    y_train2 = np.concatenate((y_train[new0   ], y_train[new1   ]))\n",
    "    \n",
    "    clf.fit(X_train2, y_train2)\n",
    "    spec = recall_score(1 - y_test, 1 - clf.predict(X_test))\n",
    "    rec = recall_score(y_test, clf.predict(X_test))\n",
    "    return (spec, rec, np.sqrt(spec * rec))"
   ]
  },
  {
   "cell_type": "code",
   "execution_count": 5,
   "metadata": {
    "collapsed": false
   },
   "outputs": [],
   "source": [
    "clf = dict()\n",
    "# Decision tree\n",
    "clf[0] = tree.DecisionTreeClassifier()\n",
    "# Random Forest\n",
    "clf[1] = RandomForestClassifier(n_estimators=100)\n",
    "# Adaboost\n",
    "clf[2] = AdaBoostClassifier(n_estimators=100)\n",
    "# Naive Bayes\n",
    "clf[3] = GaussianNB()\n",
    "# SVM\n",
    "clf[4] = svm.SVC(probability=True)\n",
    "# Logistic Regression\n",
    "clf[5] = linear_model.LogisticRegression(C=1e5)"
   ]
  },
  {
   "cell_type": "code",
   "execution_count": 6,
   "metadata": {
    "collapsed": true
   },
   "outputs": [],
   "source": [
    "split = 0.2"
   ]
  },
  {
   "cell_type": "code",
   "execution_count": 95,
   "metadata": {
    "collapsed": false
   },
   "outputs": [
    {
     "data": {
      "image/png": "[encoded data removed]",
      "text/plain": [
       "<matplotlib.figure.Figure at 0x16d617b8>"
      ]
     },
     "metadata": {},
     "output_type": "display_data"
    }
   ],
   "source": [
    "aucs = np.zeros((3, 6))\n",
    "\n",
    "\n",
    "f = plt.figure(figsize=(20,10))\n",
    "for i in xrange(0, 3):\n",
    "    for c in xrange(0, 6):\n",
    "        fpr, tpr = ROC(X[i], y[i], clf[c], split, 0)\n",
    "        plt.subplot(3, 6, 6*i+c+1)\n",
    "        plt.plot(fpr, tpr)\n",
    "        aucs[i, c] = auc(fpr, tpr)\n",
    "        "
   ]
  },
  {
   "cell_type": "code",
   "execution_count": 10,
   "metadata": {
    "collapsed": false
   },
   "outputs": [
    {
     "name": "stdout",
     "output_type": "stream",
     "text": [
      "[[ 0.90838361  0.99571292  0.99618927  0.97777072  0.88139092  0.99682439]\n",
      " [ 0.78205128  0.87413919  0.85648352  0.88695971  0.84974359  0.87391941]\n",
      " [ 0.49634503  0.63450292  0.53654971  0.49195906  0.48830409  0.57748538]]\n"
     ]
    }
   ],
   "source": [
    "print(aucs)"
   ]
  },
  {
   "cell_type": "code",
   "execution_count": 11,
   "metadata": {
    "collapsed": false
   },
   "outputs": [
    {
     "name": "stdout",
     "output_type": "stream",
     "text": [
      "0 1 2 3 4 5 [[ 0.92640351]\n",
      " [ 0.95921053]\n",
      " [ 0.97026316]\n",
      " [ 0.93570175]\n",
      " [ 0.62885965]\n",
      " [ 0.95745614]]\n"
     ]
    }
   ],
   "source": [
    "# Wisconsin Breast Cancer Diagnostic\n",
    "\n",
    "# ￼Machine learning techniques to diagnose breast cancer \n",
    "#   from image-processed nuclear features of fine needle aspirates\n",
    "\n",
    "# Prospective Accuracy is 97%\n",
    "\n",
    "accs = np.zeros((6, 1))\n",
    "for c in xrange(0, 6):\n",
    "    print(c),\n",
    "    for n in xrange(0, 100):\n",
    "        accs[c] += Acc(X[0], y[0], clf[c], split, n)\n",
    "accs /= 100\n",
    "print(accs)\n",
    "\n",
    "# With AdaBoost, we obtain an accuracy of 97.0%, exactly the 97% shown\n",
    "# in the paper, but within their 95.5 - 98.5 confidence interval (at the\n",
    "# 95% level)"
   ]
  },
  {
   "cell_type": "code",
   "execution_count": 12,
   "metadata": {
    "collapsed": false
   },
   "outputs": [
    {
     "name": "stdout",
     "output_type": "stream",
     "text": [
      "0 1 2 3 4 5 [[ 0.7904029 ]\n",
      " [ 0.87042682]\n",
      " [ 0.88976625]\n",
      " [ 0.88457892]\n",
      " [ 0.87248243]\n",
      " [ 0.90029269]]\n"
     ]
    }
   ],
   "source": [
    "# Mammographic Mass\n",
    "\n",
    "# Prediction of Breast Cancer Biopsy Outcomes \n",
    "#   Using a Distributed Genetic Programming Approach\n",
    "\n",
    "# Best AUC was 0.860 +- 0.032\n",
    "\n",
    "aucs = np.zeros((6, 1))\n",
    "for c in xrange(0, 6):\n",
    "    print(c),\n",
    "    for n in xrange(0, 100):\n",
    "        fpr, tpr = ROC(X[1], y[1], clf[c], split, n)\n",
    "        aucs[c] += auc(fpr, tpr)\n",
    "aucs /= 100\n",
    "\n",
    "print(aucs)\n",
    "\n",
    "# We achieved an AUC of 0.9003 with Logistic Regression, which is above\n",
    "# the papers metric and their uncertainty of 0.828 - 0.892"
   ]
  },
  {
   "cell_type": "code",
   "execution_count": 25,
   "metadata": {
    "collapsed": false
   },
   "outputs": [
    {
     "name": "stdout",
     "output_type": "stream",
     "text": [
      "0\n",
      "1\n",
      "2\n",
      "3\n",
      "4\n",
      "5\n",
      "[[ 0.57503772  0.51571595  0.53837511  0.8661023   0.18139842  0.37278197]\n",
      " [ 0.67528784  0.46220476  0.55060964  0.94992196  0.06628578  0.19980113]\n",
      " [ 0.60976111  0.49757788  0.54083439  0.81667094  0.27069754  0.45327128]\n",
      " [ 0.60339233  0.51258066  0.41894119  0.03398173  0.96277753  0.16422191]\n",
      " [ 0.76733714  0.23252801  0.38297406  0.80356726  0.22133842  0.3977066 ]\n",
      " [ 0.70839961  0.45879973  0.55655255  0.7855265   0.39119785  0.54177315]]\n"
     ]
    }
   ],
   "source": [
    "# Thoracic Surgery\n",
    "\n",
    "# Boosted SVM for extracting rules from imbalanced data in \n",
    "#   application to prediction of the post-operative life \n",
    "#   expectancy in the lung cancer patients\n",
    "\n",
    "# The reported best geometric mean was 0.6573 on this dataset.\n",
    "\n",
    "# For the regular data, we only do well with simple decision trees, \n",
    "#    with a Gmean of 0.4203\n",
    "\n",
    "# For undersampled data, we get the best results for most classifiers, \n",
    "#    with a best Gmean of 0.5888 for Logistic Regression\n",
    "\n",
    "# For oversampled data, we get the best results for SVM + LR, \n",
    "#    with a best Gmean of 0.6032 for Logistic Regression\n",
    "\n",
    "\n",
    "\n",
    "\n",
    "sampleratio = .8\n",
    "\n",
    "gms = np.zeros((6, 6))\n",
    "for c in xrange(0, 6):\n",
    "    print(c)\n",
    "    for n in xrange(0, 100):\n",
    "        #gms[c, 0] += Gmean  (X[2], y[2], clf[c], split, n)[2]\n",
    "        GU = GmeanUS(X[2], y[2], clf[c], split, sampleratio, n)\n",
    "        GO = GmeanOS(X[2], y[2], clf[c], split, sampleratio, n)\n",
    "        gms[c, 0] += GU[0]\n",
    "        gms[c, 1] += GU[1]\n",
    "        gms[c, 2] += GU[2]\n",
    "        gms[c, 3] += GO[0]\n",
    "        gms[c, 4] += GO[1]\n",
    "        gms[c, 5] += GO[2]\n",
    "gms /= 100\n",
    "\n",
    "print(gms)"
   ]
  },
  {
   "cell_type": "code",
   "execution_count": 131,
   "metadata": {
    "collapsed": false
   },
   "outputs": [
    {
     "name": "stdout",
     "output_type": "stream",
     "text": [
      "[ 0.  0.  0.  1.  0.  0.  0.  0.  1.  0.  0.  0.  0.  0.  0.  0.  0.  0.\n",
      "  0.  0.  0.  0.  0.  0.  0.  0.  0.  0.  0.  0.  0.  0.  0.  1.  0.  0.\n",
      "  1.  0.  1.  0.  1.  0.  0.  0.  0.  0.  1.  0.  0.  0.  0.  0.  0.  0.\n",
      "  0.  0.  0.  0.  1.  0.  0.  0.  0.  0.  0.  0.  0.  0.  0.  0.  0.  0.\n",
      "  0.  0.  0.  1.  0.  0.  0.  0.  1.  0.  0.  0.  0.  0.  0.  1.  0.  1.\n",
      "  0.  0.  0.  0.]\n",
      "[ 1.  1.  1.  1.  1.  1.  1.  1.  1.  1.  1.  1.  0.  1.  1.  1.  1.  1.\n",
      "  1.  0.  1.  1.  1.  1.  1.  1.  1.  1.  1.  1.  1.  1.  1.  1.  1.  1.\n",
      "  1.  1.  1.  1.  1.  1.  1.  1.  1.  1.  1.  1.  1.  1.  1.  1.  1.  1.\n",
      "  1.  1.  1.  1.  1.  1.  1.  1.  1.  1.  1.  1.  1.  1.  1.  1.  1.  1.\n",
      "  1.  1.  1.  1.  1.  1.  1.  1.  1.  1.  1.  1.  1.  1.  1.  1.  1.  1.\n",
      "  1.  1.  1.  1.]\n",
      "0.156173761889\n"
     ]
    }
   ],
   "source": [
    "split = 0.2\n",
    "#clft = svm.SVC(probability=True, class_weight={1: 6})\n",
    "#clft = linear_model.LogisticRegression(C=1e5, class_weight={1: 6})\n",
    "#clft = GaussianNB()\n",
    "\n",
    "X_train, X_test, y_train, y_test = train_test_split(X[2], y[2], test_size=split)\n",
    "clft.fit(X_train, y_train)\n",
    "spec = recall_score(1-y_test, 1-clft.predict(X_test))\n",
    "rec = recall_score(y_test, clft.predict(X_test))\n",
    "print(y_test)\n",
    "print(clft.predict(X_test))\n",
    "print(np.sqrt(spec * rec))"
   ]
  },
  {
   "cell_type": "code",
   "execution_count": 98,
   "metadata": {
    "collapsed": false
   },
   "outputs": [
    {
     "name": "stdout",
     "output_type": "stream",
     "text": [
      "[ 94 281 281  67  59  40  87 281 207  27  43  40  87 128 138 193 157 202\n",
      " 201 201 201 254  59  40 169 147 200 193 178 155 157 281 201 207 106 190\n",
      " 138 147 193   3 213  94 190  58  58 227  17 213 213 169  43 207 203 141\n",
      "  40 138  40 202  27 178 128 138 140 142 172 193 141 155  40 254 178 155\n",
      " 276 273  94 132 254  59  59 132  58 157 106 203 140  40  87 227   3 193\n",
      " 273   3 141 178 254  40 202  67 213 157 200 157 207  27 128 202  94 201\n",
      " 203 172  94 207 140 132  43 132 276 190 203 138 227 227  59 140 193 169\n",
      " 141 178   3 207 201 128  43  87 132 203  67  67 147 200  24 276  74 164\n",
      "  17  74 169  94 155 128  40  43  59 157 147 213  94 276 178 155  74 200\n",
      " 200 142 147 155 169 142 203 178  67 200 141 207 157  24 138 142 164  55\n",
      " 157  94 213  17 195  67 142 140 178  43 106   3 195 164 142 276  67 178\n",
      " 140  55 227 155 276 172 140  17  40  40 132 254  27 138 132  87 213 201\n",
      " 132 128 254  55  94  40 164  17 195  40 276 200  43 147 213 202 157 132\n",
      "  40  58  67  24  55  43 276]\n"
     ]
    }
   ],
   "source": [
    "num0 = np.sum(y_train == 0)\n",
    "num1 = np.sum(y_train == 1)\n",
    "\n",
    "new0 = np.where(y_train == 0)[0]\n",
    "new1 = np.random.choice(np.where(y_train == 1)[0], num0)\n",
    "\n",
    "X_train2 = np.concatenate((X_train[new0, :], X_train[new1, :]))\n",
    "y_train2 = np.concatenate((y_train[new0   ], y_train[new1   ]))\n",
    "\n",
    "print(new1)"
   ]
  },
  {
   "cell_type": "code",
   "execution_count": 58,
   "metadata": {
    "collapsed": false
   },
   "outputs": [
    {
     "data": {
      "text/plain": [
       "(466L, 27L)"
      ]
     },
     "execution_count": 58,
     "metadata": {},
     "output_type": "execute_result"
    }
   ],
   "source": [
    "np.shape(X_train2)"
   ]
  },
  {
   "cell_type": "code",
   "execution_count": 59,
   "metadata": {
    "collapsed": false
   },
   "outputs": [
    {
     "data": {
      "text/plain": [
       "(466L,)"
      ]
     },
     "execution_count": 59,
     "metadata": {},
     "output_type": "execute_result"
    }
   ],
   "source": [
    "np.shape(y_train2)"
   ]
  },
  {
   "cell_type": "code",
   "execution_count": 46,
   "metadata": {
    "collapsed": false
   },
   "outputs": [
    {
     "data": {
      "text/plain": [
       "233"
      ]
     },
     "execution_count": 46,
     "metadata": {},
     "output_type": "execute_result"
    }
   ],
   "source": [
    "np.sum(y_train == 0)"
   ]
  },
  {
   "cell_type": "code",
   "execution_count": 26,
   "metadata": {
    "collapsed": false
   },
   "outputs": [
    {
     "name": "stdout",
     "output_type": "stream",
     "text": [
      "(357, 212)\n",
      "(427, 403)\n",
      "(400, 70)\n"
     ]
    }
   ],
   "source": [
    "print(np.sum(y[0]==0), np.sum(y[0]==1))\n",
    "print(np.sum(y[1]==0), np.sum(y[1]==1))\n",
    "print(np.sum(y[2]==0), np.sum(y[2]==1))"
   ]
  },
  {
   "cell_type": "code",
   "execution_count": null,
   "metadata": {
    "collapsed": true
   },
   "outputs": [],
   "source": []
  }
 ],
 "metadata": {
  "kernelspec": {
   "display_name": "Python 2",
   "language": "python",
   "name": "python2"
  },
  "language_info": {
   "codemirror_mode": {
    "name": "ipython",
    "version": 2
   },
   "file_extension": ".py",
   "mimetype": "text/x-python",
   "name": "python",
   "nbconvert_exporter": "python",
   "pygments_lexer": "ipython2",
   "version": "2.7.8"
  }
 },
 "nbformat": 4,
 "nbformat_minor": 0
}
